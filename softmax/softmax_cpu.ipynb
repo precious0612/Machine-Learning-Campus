{
 "cells": [
  {
   "cell_type": "code",
   "execution_count": 1,
   "metadata": {
    "pycharm": {
     "name": "#%%\n"
    }
   },
   "outputs": [],
   "source": [
    "import numpy as np\n",
    "import struct\n",
    "import os"
   ]
  },
  {
   "cell_type": "code",
   "execution_count": 2,
   "metadata": {
    "pycharm": {
     "name": "#%%\n"
    }
   },
   "outputs": [],
   "source": [
    "path = '/Users/precious/Desktop/Machine Learning/Neural Network(easy)/data'\n",
    "kind = 'train'\n",
    "\n",
    "labels_path = os.path.join(path,'%s-labels.idx1-ubyte'% kind)\n",
    "images_path = os.path.join(path,'%s-images.idx3-ubyte'% kind)\n",
    "with open(labels_path, 'rb') as lbpath:\n",
    "    magic, n = struct.unpack('>II',lbpath.read(8))\n",
    "    train_labels = np.fromfile(lbpath,dtype=np.uint8)\n",
    "with open(images_path, 'rb') as imgpath:\n",
    "    magic, num, rows, cols = struct.unpack('>IIII',imgpath.read(16))\n",
    "    train_images = np.fromfile(imgpath,dtype=np.uint8).reshape(len(train_labels), 784)\n",
    "\n",
    "kind = 't10k'\n",
    "\n",
    "labels_path = os.path.join(path,'%s-labels.idx1-ubyte'% kind)\n",
    "images_path = os.path.join(path,'%s-images.idx3-ubyte'% kind)\n",
    "with open(labels_path, 'rb') as lbpath:\n",
    "    magic, n = struct.unpack('>II',lbpath.read(8))\n",
    "    test_labels = np.fromfile(lbpath,dtype=np.uint8)\n",
    "with open(images_path, 'rb') as imgpath:\n",
    "    magic, num, rows, cols = struct.unpack('>IIII',imgpath.read(16))\n",
    "    test_images = np.fromfile(imgpath,dtype=np.uint8).reshape(len(test_labels), 784)  "
   ]
  },
  {
   "cell_type": "markdown",
   "metadata": {
    "pycharm": {
     "name": "#%% md\n"
    }
   },
   "source": [
    "plot figure"
   ]
  },
  {
   "cell_type": "code",
   "execution_count": 3,
   "metadata": {
    "pycharm": {
     "name": "#%%\n"
    }
   },
   "outputs": [],
   "source": [
    "import matplotlib.pyplot as plt"
   ]
  },
  {
   "cell_type": "code",
   "execution_count": 4,
   "metadata": {
    "pycharm": {
     "name": "#%%\n"
    }
   },
   "outputs": [
    {
     "data": {
      "text/plain": "<Figure size 576x576 with 5 Axes>",
      "image/png": "[encoded data removed]"
     },
     "metadata": {},
     "output_type": "display_data"
    }
   ],
   "source": [
    "fig=plt.figure(figsize=(8,8))\n",
    "fig.subplots_adjust(left=0,right=1,bottom=0,top=1,hspace=0.05,wspace=0.05)\n",
    "for i in range(5):\n",
    "    images = np.reshape(train_images[i], [28,28])\n",
    "    ax=fig.add_subplot(1,5,i+1,xticks=[],yticks=[])\n",
    "    ax.imshow(images,cmap=plt.cm.binary,interpolation='nearest')\n",
    "    ax.text(0,7,str(train_labels[i]))\n",
    "plt.show()"
   ]
  },
  {
   "cell_type": "code",
   "execution_count": 5,
   "metadata": {
    "pycharm": {
     "name": "#%%\n"
    }
   },
   "outputs": [],
   "source": [
    "import torch\n",
    "\n",
    "dev = 'mps'"
   ]
  },
  {
   "cell_type": "code",
   "execution_count": 6,
   "metadata": {
    "pycharm": {
     "name": "#%%\n"
    }
   },
   "outputs": [],
   "source": [
    "train_tensor = torch.tensor(train_images, dtype=torch.float)\n",
    "test_tensor = torch.tensor(test_images, dtype=torch.float)\n",
    "train_labels_tensor = torch.tensor(train_labels, dtype=torch.int64)\n",
    "test_labels_tensor = torch.tensor(test_labels, dtype=torch.int64)"
   ]
  },
  {
   "cell_type": "code",
   "execution_count": 7,
   "metadata": {
    "pycharm": {
     "name": "#%%\n"
    }
   },
   "outputs": [],
   "source": [
    "train_labels_tensor = torch.nn.functional.one_hot(train_labels_tensor, num_classes=10).float()\n",
    "test_labels_tensor = torch.nn.functional.one_hot(test_labels_tensor, num_classes=10).float()"
   ]
  },
  {
   "cell_type": "code",
   "execution_count": 8,
   "metadata": {
    "pycharm": {
     "name": "#%%\n"
    }
   },
   "outputs": [],
   "source": [
    "from torch.utils import data\n",
    "\n",
    "def make_iters(tensor, labels, batch_size, num_workers=8):\n",
    "    set = data.TensorDataset(tensor, labels)\n",
    "    iter = data.DataLoader(set, batch_size, shuffle=True, num_workers=num_workers, pin_memory=True)\n",
    "    return iter"
   ]
  },
  {
   "cell_type": "code",
   "execution_count": 9,
   "outputs": [],
   "source": [
    "batch_size = 100\n",
    "\n",
    "# train_tensor = train_tensor[:1000]\n",
    "# train_labels_tensor = train_labels_tensor[:1000]\n",
    "# test_tensor = test_tensor[:100]\n",
    "# test_labels_tensor = test_labels_tensor[:100]\n",
    "\n",
    "train_iter = make_iters(train_tensor, train_labels_tensor, batch_size)\n",
    "test_iter = make_iters(test_tensor, test_labels_tensor, batch_size)"
   ],
   "metadata": {
    "collapsed": false,
    "pycharm": {
     "name": "#%%\n"
    }
   }
  },
  {
   "cell_type": "code",
   "execution_count": 10,
   "outputs": [],
   "source": [
    "import torch.nn as nn\n",
    "import torch.nn.functional as F\n",
    "\n",
    "\n",
    "class Net(nn.Module):\n",
    "    def __init__(self):\n",
    "        super(Net, self).__init__()\n",
    "        self.fc1 = nn.Linear(28 * 28, 280)\n",
    "        self.predict = nn.Linear(280,10)\n",
    "\n",
    "    def forward(self, x):\n",
    "        x = self.fc1(x)\n",
    "        x = self.predict(x)\n",
    "        return F.softmax(x, dim=0)\n",
    "\n",
    "net = Net().to(dev)"
   ],
   "metadata": {
    "collapsed": false,
    "pycharm": {
     "name": "#%%\n"
    }
   }
  },
  {
   "cell_type": "code",
   "execution_count": 11,
   "outputs": [
    {
     "name": "stdout",
     "output_type": "stream",
     "text": [
      "tensor([0.0000e+00, 0.0000e+00, 0.0000e+00, 7.9865e-01, 0.0000e+00, 2.0134e-01,\n",
      "        4.6008e-06, 0.0000e+00, 0.0000e+00, 1.2845e-22], device='mps:0',\n",
      "       grad_fn=<SoftmaxBackward0>)\n"
     ]
    },
    {
     "name": "stderr",
     "output_type": "stream",
     "text": [
      "/Users/precious/opt/anaconda3/envs/pytorch/lib/python3.10/site-packages/torch/_tensor_str.py:115: UserWarning: The operator 'aten::masked_select' is not currently supported on the MPS backend and will fall back to run on the CPU. This may have performance implications. (Triggered internally at /Users/runner/work/_temp/anaconda/conda-bld/pytorch_1664349113260/work/aten/src/ATen/mps/MPSFallback.mm:11.)\n",
      "  nonzero_finite_vals = torch.masked_select(\n"
     ]
    }
   ],
   "source": [
    "input = torch.tensor(range(28*28),dtype=torch.float).to(dev)\n",
    "out = net(input)\n",
    "print(out)"
   ],
   "metadata": {
    "collapsed": false,
    "pycharm": {
     "name": "#%%\n"
    }
   }
  },
  {
   "cell_type": "code",
   "execution_count": 12,
   "metadata": {
    "pycharm": {
     "name": "#%%\n"
    }
   },
   "outputs": [],
   "source": [
    "import torch.optim as optim\n",
    "\n",
    "criterion = nn.CrossEntropyLoss()\n",
    "optimizer = optim.SGD(net.parameters(), lr=0.1\n",
    "                    #   , momentum=0.9\n",
    "                      )"
   ]
  },
  {
   "cell_type": "code",
   "execution_count": 13,
   "metadata": {
    "pycharm": {
     "name": "#%%\n"
    }
   },
   "outputs": [
    {
     "data": {
      "text/plain": "0.17719998955726624"
     },
     "execution_count": 13,
     "metadata": {},
     "output_type": "execute_result"
    }
   ],
   "source": [
    "def evaluate_accuracy(net, data, data_labels):\n",
    "    temp = net(data)\n",
    "    temp = torch.max(temp, dim=1).indices\n",
    "    return ((temp.eq(torch.max(data_labels, dim=1).indices)==True).sum() / len(data)).item()\n",
    "\n",
    "evaluate_accuracy(net, test_tensor.to(dev), test_labels_tensor.to(dev))"
   ]
  },
  {
   "cell_type": "code",
   "execution_count": 14,
   "metadata": {
    "pycharm": {
     "name": "#%%\n"
    }
   },
   "outputs": [],
   "source": [
    "num_epochs = 50"
   ]
  },
  {
   "cell_type": "code",
   "execution_count": 15,
   "metadata": {
    "pycharm": {
     "name": "#%%\n"
    }
   },
   "outputs": [
    {
     "data": {
      "text/plain": "<Figure size 432x288 with 1 Axes>",
      "image/png": "[encoded data removed]"
     },
     "metadata": {
      "needs_background": "light"
     },
     "output_type": "display_data"
    },
    {
     "ename": "KeyboardInterrupt",
     "evalue": "",
     "output_type": "error",
     "traceback": [
      "\u001B[0;31m---------------------------------------------------------------------------\u001B[0m",
      "\u001B[0;31mKeyboardInterrupt\u001B[0m                         Traceback (most recent call last)",
      "Input \u001B[0;32mIn [15]\u001B[0m, in \u001B[0;36m<cell line: 10>\u001B[0;34m()\u001B[0m\n\u001B[1;32m     18\u001B[0m \u001B[38;5;66;03m# forward + backward + optimize\u001B[39;00m\n\u001B[1;32m     19\u001B[0m outputs \u001B[38;5;241m=\u001B[39m net(batch_datas\u001B[38;5;241m.\u001B[39mto(dev))\n\u001B[0;32m---> 20\u001B[0m loss \u001B[38;5;241m=\u001B[39m criterion(outputs, \u001B[43mbatch_labels\u001B[49m\u001B[38;5;241;43m.\u001B[39;49m\u001B[43mto\u001B[49m\u001B[43m(\u001B[49m\u001B[43mdev\u001B[49m\u001B[43m)\u001B[49m)\n\u001B[1;32m     21\u001B[0m \u001B[38;5;66;03m# accumulation_steps = 10\u001B[39;00m\n\u001B[1;32m     22\u001B[0m \u001B[38;5;66;03m# loss = loss / accumulation_steps                # Normalize our loss (if averaged)\u001B[39;00m\n\u001B[1;32m     23\u001B[0m \u001B[38;5;66;03m# loss.backward()                                 # Backward pass\u001B[39;00m\n\u001B[0;32m   (...)\u001B[0m\n\u001B[1;32m     27\u001B[0m \u001B[38;5;66;03m#     if (i+1) % evaluation_steps == 0:           # Evaluate the model when we...\u001B[39;00m\n\u001B[1;32m     28\u001B[0m \u001B[38;5;66;03m#         criterion()                             # ...have no gradients accumulated\u001B[39;00m\n\u001B[1;32m     29\u001B[0m loss\u001B[38;5;241m.\u001B[39mbackward()\n",
      "\u001B[0;31mKeyboardInterrupt\u001B[0m: "
     ]
    }
   ],
   "source": [
    "from IPython import display\n",
    "\n",
    "\n",
    "train_acc = evaluate_accuracy(net, train_tensor.to(dev), train_labels_tensor.to(dev))\n",
    "test_acc = evaluate_accuracy(net, test_tensor.to(dev), test_labels_tensor.to(dev))\n",
    "\n",
    "i = 0\n",
    "\n",
    "y = np.array([[train_acc, test_acc]])\n",
    "for epoch in range(num_epochs):\n",
    "    running_loss = 0.0\n",
    "    # i = 0\n",
    "    for  batch_datas, batch_labels in train_iter:\n",
    "        i += batch_size\n",
    "        # zero the parameter gradients\n",
    "        optimizer.zero_grad()\n",
    "\n",
    "        # forward + backward + optimize\n",
    "        outputs = net(batch_datas.to(dev))\n",
    "        loss = criterion(outputs, batch_labels.to(dev))\n",
    "        # accumulation_steps = 10\n",
    "        # loss = loss / accumulation_steps                # Normalize our loss (if averaged)\n",
    "        # loss.backward()                                 # Backward pass\n",
    "        # if (i+1) % accumulation_steps == 0:             # Wait for several backward steps\n",
    "        #     optimizer.step()                            # Now we can do an optimizer step\n",
    "        #     net.zero_grad()                             # Reset gradients tensors\n",
    "        #     if (i+1) % evaluation_steps == 0:           # Evaluate the model when we...\n",
    "        #         criterion()                             # ...have no gradients accumulated\n",
    "        loss.backward()\n",
    "        optimizer.step()\n",
    "\n",
    "        # print statistics\n",
    "        # running_loss += loss.item()\n",
    "        # if i % 30000 == 1:    # print every 2000 mini-batches\n",
    "        #     print('[%d, %5d] loss: %.3f' %\n",
    "        #           (epoch + 1, i + 1, running_loss / (2000/batch_size)))\n",
    "        #     running_loss = 0.0\n",
    "        # running_loss = loss.item()\n",
    "    \n",
    "    train_acc = evaluate_accuracy(net, train_tensor.to(dev), train_labels_tensor.to(dev))\n",
    "    test_acc = evaluate_accuracy(net, test_tensor.to(dev), test_labels_tensor.to(dev))\n",
    "    y = np.insert(y, len(y), np.array([train_acc, test_acc]), axis=0)\t# 添加i的平方到y轴的数据中\n",
    "\n",
    "    # print('train_accuracy={}'.format(evaluate_accuracy(net, train_iter)))\n",
    "    print('test_accuracy={}'.format(test_acc))\n",
    "    display.clear_output(wait=True)\n",
    "    # print(y.shape)\n",
    "    plt.plot(range(epoch+2), y[:,0], label='train_acc')\n",
    "    plt.plot(range(epoch+2), y[:,1], label='test_acc')\n",
    "    # plt.plot(y[:,2], label='loss')\n",
    "\n",
    "    # plt.ylabel('accuracy')\n",
    "    plt.xlim([0, num_epochs])\n",
    "    plt.ylim([0,1])\n",
    "    plt.xlabel('batch')\n",
    "    plt.ylabel('accuracy')\n",
    "    plt.legend()\n",
    "    plt.show()\n",
    "    plt.pause(0.1)  # 暂停一段时间，不然画的太快会卡住显示不出来\n",
    "    \n",
    "    # print('train_accuracy={}'.format(evaluate_accuracy(net, train_iter)))\n",
    "    # print('test_accuracy={}'.format(evaluate_accuracy(net, test_iter)))\n",
    "    # animator.add(i + 1, train_metrics + (test_acc,))\n",
    "\n",
    "# train_loss, train_acc = train_metrics\n",
    "\n",
    "# plt.plot(accuracy_list)\n",
    "# plt.ylabel('accuracy')\n",
    "# plt.xlabel('epoch')"
   ]
  }
 ],
 "metadata": {
  "kernelspec": {
   "display_name": "Python 3.10.4 ('pytorch')",
   "language": "python",
   "name": "python3"
  },
  "language_info": {
   "codemirror_mode": {
    "name": "ipython",
    "version": 3
   },
   "file_extension": ".py",
   "mimetype": "text/x-python",
   "name": "python",
   "nbconvert_exporter": "python",
   "pygments_lexer": "ipython3",
   "version": "3.10.4"
  },
  "orig_nbformat": 4,
  "vscode": {
   "interpreter": {
    "hash": "275a4a4caac3b599141279da828175b7d7e8e743fa5a3234eb41dae0868b9f4b"
   }
  }
 },
 "nbformat": 4,
 "nbformat_minor": 2
}