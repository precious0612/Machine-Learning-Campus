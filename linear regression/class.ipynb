{
 "cells": [
  {
   "cell_type": "code",
   "execution_count": 13,
   "metadata": {},
   "outputs": [],
   "source": [
    "import torch"
   ]
  },
  {
   "cell_type": "markdown",
   "metadata": {},
   "source": [
    "#### 使用GPU（M1）加速"
   ]
  },
  {
   "cell_type": "code",
   "execution_count": 14,
   "metadata": {},
   "outputs": [],
   "source": [
    "device = torch.device('mps')"
   ]
  },
  {
   "cell_type": "code",
   "execution_count": 15,
   "metadata": {},
   "outputs": [],
   "source": [
    "vector_alpha = torch.Tensor([1,2,3,4]).to(device)\n",
    "vector_beta  = torch.Tensor([5,6,7,8]).to(device)"
   ]
  },
  {
   "cell_type": "code",
   "execution_count": 16,
   "metadata": {},
   "outputs": [
    {
     "name": "stdout",
     "output_type": "stream",
     "text": [
      "tensor([[1., 2.],\n",
      "        [3., 4.]], device='mps:0')\n"
     ]
    }
   ],
   "source": [
    "print(vector_alpha.reshape([2,2]))"
   ]
  },
  {
   "cell_type": "code",
   "execution_count": 18,
   "metadata": {},
   "outputs": [
    {
     "name": "stdout",
     "output_type": "stream",
     "text": [
      "tensor([[ 6.,  8.],\n",
      "        [10., 12.]], device='mps:0')\n",
      "tensor([[-4., -4.],\n",
      "        [-4., -4.]], device='mps:0')\n",
      "tensor([[ 5., 12.],\n",
      "        [21., 32.]], device='mps:0')\n",
      "tensor([[0.2000, 0.3333],\n",
      "        [0.4286, 0.5000]], device='mps:0')\n"
     ]
    }
   ],
   "source": [
    "print(vector_alpha.reshape([2,2]) + vector_beta.reshape([2,2]))\n",
    "print(vector_alpha.reshape([2,2]) - vector_beta.reshape([2,2]))\n",
    "print(vector_alpha.reshape([2,2]) * vector_beta.reshape([2,2]))\n",
    "print(vector_alpha.reshape([2,2]) / vector_beta.reshape([2,2]))"
   ]
  },
  {
   "cell_type": "code",
   "execution_count": 21,
   "metadata": {},
   "outputs": [
    {
     "name": "stdout",
     "output_type": "stream",
     "text": [
      "tensor([[-2.0000,  1.0000],\n",
      "        [ 1.5000, -0.5000]], device='mps:0')\n"
     ]
    }
   ],
   "source": [
    "print(vector_alpha.reshape([2,2]).inverse())"
   ]
  }
 ],
 "metadata": {
  "kernelspec": {
   "display_name": "Python 3.10.4 ('pytorch')",
   "language": "python",
   "name": "python3"
  },
  "language_info": {
   "codemirror_mode": {
    "name": "ipython",
    "version": 3
   },
   "file_extension": ".py",
   "mimetype": "text/x-python",
   "name": "python",
   "nbconvert_exporter": "python",
   "pygments_lexer": "ipython3",
   "version": "3.10.4"
  },
  "orig_nbformat": 4,
  "vscode": {
   "interpreter": {
    "hash": "275a4a4caac3b599141279da828175b7d7e8e743fa5a3234eb41dae0868b9f4b"
   }
  }
 },
 "nbformat": 4,
 "nbformat_minor": 2
}
