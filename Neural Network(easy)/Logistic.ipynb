{
 "cells": [
  {
   "cell_type": "code",
   "execution_count": 1,
   "metadata": {},
   "outputs": [],
   "source": [
    "import numpy as np\n",
    "import pandas as pd\n",
    "import matplotlib.pyplot as plt\n"
   ]
  },
  {
   "cell_type": "code",
   "execution_count": 3,
   "metadata": {},
   "outputs": [],
   "source": [
    "path = 'data/ex2data1.txt'\n",
    "# Exam1和Exam2分别是两门课程的分数，Accepted是是否录取的标记，1代表录取\n",
    "data = pd.read_csv(path, names=['Exam 1', 'Exam 2', 'Accepted'])\n"
   ]
  },
  {
   "cell_type": "code",
   "execution_count": 4,
   "metadata": {},
   "outputs": [
    {
     "data": {
      "image/png": "[encoded data removed]",
      "text/plain": [
       "<Figure size 640x480 with 1 Axes>"
      ]
     },
     "metadata": {},
     "output_type": "display_data"
    }
   ],
   "source": [
    "# 画出散点图\n",
    "fig, ax = plt.subplots()\n",
    "# 绘制没有被录取的散点图，横轴代表exam1的分数，纵轴代表exam2的分数\n",
    "ax.scatter(data[data['Accepted'] == 0]['Exam 1'],\n",
    "           data[data['Accepted'] == 0]['Exam 2'], c='r', marker='x', label='y=0')\n",
    "# 绘制被录取的散点图，横轴代表exam1的分数，纵轴代表exam2的分数\n",
    "ax.scatter(data[data['Accepted'] == 1]['Exam 1'],\n",
    "           data[data['Accepted'] == 1]['Exam 2'], c='b', marker='o', label='y=1')\n",
    "ax.legend()\n",
    "ax.set(xlabel='exam1', ylabel='exam2')\n",
    "plt.show()\n"
   ]
  },
  {
   "cell_type": "markdown",
   "metadata": {},
   "source": [
    "构造数据集，x和y"
   ]
  },
  {
   "cell_type": "code",
   "execution_count": 5,
   "metadata": {},
   "outputs": [],
   "source": [
    "# 定义获取数据的函数\n",
    "def get_Xy(data):\n",
    "    data.insert(0, 'ones', 1)  # 添加一列 样本变为[1 x]\n",
    "    X_ = data.iloc[:, 0:-1]  # 取前三列作为输入样本\n",
    "    X = X_.values  # 转换为数组\n",
    "\n",
    "    y_ = data.iloc[:, -1]  # 取最后一列作为真实值\n",
    "    y = y_.values.reshape(len(y_), 1)  # 转换为numpy数据，重新变化维度为矩阵\n",
    "\n",
    "    return X, y\n"
   ]
  },
  {
   "cell_type": "code",
   "execution_count": 6,
   "metadata": {},
   "outputs": [
    {
     "name": "stdout",
     "output_type": "stream",
     "text": [
      "(100, 3) (100, 1)\n"
     ]
    }
   ],
   "source": [
    "X, y = get_Xy(data)  # 调用函数获取数据\n",
    "print(X.shape, y.shape)\n"
   ]
  },
  {
   "cell_type": "code",
   "execution_count": 7,
   "metadata": {},
   "outputs": [],
   "source": [
    "# 定义联系函数，sigmoid\n",
    "def sigmoid(z):\n",
    "    return 1 / (1 + np.exp(-z))\n"
   ]
  },
  {
   "cell_type": "code",
   "execution_count": 8,
   "metadata": {},
   "outputs": [],
   "source": [
    "# 定义损失函数\n",
    "def costFunction(X, y, theta):\n",
    "    A = sigmoid(X @ theta)  # 算出y的值\n",
    "\n",
    "    first = y * np.log(A)  # 上式中的第一部分\n",
    "    second = (1 - y) * np.log(1 - A)  # 上式中的第二部分\n",
    "\n",
    "    return -np.sum(first + second) / len(X)\n"
   ]
  },
  {
   "cell_type": "code",
   "execution_count": 9,
   "metadata": {},
   "outputs": [
    {
     "name": "stdout",
     "output_type": "stream",
     "text": [
      "0.6931471805599453\n"
     ]
    }
   ],
   "source": [
    "# 初始化theta的值，并求出损失函数初始值\n",
    "theta = np.zeros((3, 1))  # 给theta赋初始值\n",
    "theta.shape\n",
    "cost_init = costFunction(X, y, theta)  # 算出初始损失值\n",
    "print(cost_init)  # 打印初始损失值\n"
   ]
  },
  {
   "cell_type": "code",
   "execution_count": 10,
   "metadata": {},
   "outputs": [],
   "source": [
    "# 定义梯度下降函数\n",
    "def gradientDescent(X, y, theta, iters, alpha):\n",
    "    m = len(X)  # 求出样本个数\n",
    "    costs = []  # 定义空列表存储每次算出来的损失\n",
    "\n",
    "    for i in range(iters):\n",
    "        A = sigmoid(X @ theta)  # 先计算g（X@theta），g为sigmoid函数即联系函数\n",
    "        theta = theta - (alpha / m) * X.T @ (A - y)\n",
    "        cost = costFunction(X, y, theta)\n",
    "        costs.append(cost)\n",
    "        if i % 1000 == 0:\n",
    "            print(cost)\n",
    "    return costs, theta\n"
   ]
  },
  {
   "cell_type": "markdown",
   "metadata": {},
   "source": [
    "初始化 alpha和iters。后续自行改变参数，求解你认为的最好模型"
   ]
  },
  {
   "cell_type": "code",
   "execution_count": 11,
   "metadata": {},
   "outputs": [],
   "source": [
    "alpha = 0.004\n",
    "iters=200000"
   ]
  },
  {
   "cell_type": "code",
   "execution_count": 12,
   "metadata": {},
   "outputs": [
    {
     "name": "stdout",
     "output_type": "stream",
     "text": [
      "1.9886538578930086\n",
      "3.078170019864155\n",
      "5.487009635362496\n",
      "1.8519433661332634\n",
      "2.955128942408358\n",
      "5.438688730769618\n",
      "1.8046128090728502\n",
      "2.8312715776074047\n",
      "5.3886531633606145\n",
      "1.756153811712156\n",
      "2.706676380747814\n",
      "5.3365673644957425\n",
      "1.7062807047694801\n",
      "2.5818508519054255\n",
      "5.281774101800353\n",
      "1.6544129958512053\n",
      "2.4578430947435748\n",
      "5.223255119969365\n",
      "1.5996612097145555\n",
      "2.3362477519414617\n",
      "5.159653459570274\n",
      "1.5408871901849077\n",
      "2.2190492038468888\n",
      "5.089387088751128\n",
      "1.4768567851081462\n",
      "2.108268509053649\n",
      "5.010845104587983\n",
      "1.4064493632805872\n",
      "2.005433890383271\n",
      "4.9225734611717336\n",
      "1.3288041261254449\n",
      "1.9109646054893659\n",
      "4.82325748482661\n",
      "1.2432202250971693\n",
      "1.8235866121521411\n",
      "4.711246821296763\n",
      "1.1486277932139581\n",
      "1.7397667362448004\n",
      "4.583257400457349\n",
      "1.0423478306006673\n",
      "1.652586574603404\n",
      "4.430932868329269\n",
      "0.9166267386002198\n",
      "1.5465331276550855\n",
      "4.224624720512681\n",
      "0.7330944584991151\n",
      "0.5277073720344672\n",
      "3.888654102070563\n",
      "1.3643729804575255\n",
      "0.7562180112890663\n",
      "0.9721312554958343\n",
      "0.5959636118765947\n",
      "0.3099729011348154\n",
      "1.2546071691918628\n",
      "0.3697799789133586\n",
      "1.2612939112344435\n",
      "0.37002253932454876\n",
      "3.2555667279691853\n",
      "3.0361236833802416\n",
      "0.2983244381968312\n",
      "0.9161772631196601\n",
      "3.129131114977323\n",
      "2.571602827927434\n",
      "0.2551301695950264\n",
      "0.2591333925518896\n",
      "0.36465075195242386\n",
      "1.8745696941902514\n",
      "0.2248281897521273\n",
      "0.22529675374797534\n",
      "0.2396869815677973\n",
      "2.496803004490001\n",
      "2.5345990068114053\n",
      "0.43662488403094785\n",
      "0.27342633086583573\n",
      "0.9212729989828891\n",
      "0.4208037753765096\n",
      "0.3590358034770025\n",
      "2.068403277921904\n",
      "0.5308430675365196\n",
      "0.4926927487890299\n",
      "0.5271544426858581\n",
      "0.5582095050762469\n",
      "0.5891870946741128\n",
      "0.6444360598664233\n",
      "0.7142133222415703\n",
      "0.7358237404785762\n",
      "0.7593430027835776\n",
      "0.7851549247646435\n",
      "0.813790704978731\n",
      "0.8460245055007155\n",
      "0.8830679447357987\n",
      "0.9270269255173598\n",
      "0.9822406521593391\n",
      "1.061085511465788\n",
      "1.1880773352501206\n",
      "1.1788393738327847\n",
      "1.1627869217936615\n",
      "1.1468036218113817\n",
      "1.1308930975082405\n",
      "1.115059475460363\n",
      "1.0993073444278163\n",
      "1.0836417092427773\n",
      "1.0680679393840677\n",
      "1.0525917124482884\n",
      "1.037218952938794\n",
      "1.021955767017366\n",
      "1.0068083740881972\n",
      "0.9917830362933165\n",
      "0.9768859871775065\n",
      "0.9621233609143475\n",
      "0.947501123559665\n",
      "0.9330250078070681\n",
      "0.9187004526574072\n",
      "0.9045325492826092\n",
      "0.8905259941712445\n",
      "0.8766850504002597\n",
      "0.8630135176009445\n",
      "0.8495147108939566\n",
      "0.8361914487772222\n",
      "0.8230460496772787\n",
      "0.8100803366333491\n",
      "0.7972956493850745\n",
      "0.784692862984065\n",
      "0.7722724119500106\n",
      "0.7600343189415787\n",
      "0.7479782269066705\n",
      "0.7361034337097075\n",
      "0.724408928297056\n",
      "0.7128934275484773\n",
      "0.7015554130640501\n",
      "0.6903931672451332\n",
      "0.679404808139504\n",
      "0.6685883226290562\n",
      "0.6579415976398244\n",
      "0.6474624491465617\n",
      "0.6371486488260356\n",
      "0.6269979482829197\n",
      "0.6170081008315565\n",
      "0.607176880864596\n",
      "0.597502100876945\n",
      "0.5879816262423067\n",
      "0.5786133878598859\n",
      "0.5693953928019246\n",
      "0.5603257331003021\n",
      "0.5514025928127881\n",
      "0.5426242535075356\n",
      "0.5339890982996768\n",
      "0.5254956145661686\n",
      "0.5171423954554661\n",
      "0.5089281402977548\n",
      "0.5008516540098481\n",
      "0.4929118455763618\n",
      "0.48510772567705196\n",
      "0.4774384035182156\n",
      "0.4699030829149396\n",
      "0.4625010576617639\n",
      "0.45523170622019626\n",
      "0.4480944857458556\n",
      "0.44108892547293316\n",
      "0.4342146194721266\n",
      "0.4274712187983903\n",
      "0.4208584230483677\n",
      "0.4143759713531312\n",
      "0.4080236328406766\n",
      "0.4018011966135183\n",
      "0.3957084613004722\n",
      "0.38974522425625224\n",
      "0.3839112704988042\n",
      "0.378206361491334\n",
      "0.37263022389092415\n",
      "0.3671825384014221\n",
      "0.36186292887967936\n",
      "0.35667095185407677\n",
      "0.35160608661839987\n",
      "0.3466677260649735\n",
      "0.3418551684153707\n",
      "0.3371676099967427\n",
      "0.33260413919559395\n",
      "0.3281637316995909\n",
      "0.32384524711299273\n",
      "0.31964742700173215\n",
      "0.3155688943935811\n",
      "0.3116081547257799\n",
      "0.3077635982014428\n",
      "0.30403350348487507\n",
      "0.30041604263905153\n",
      "0.29690928718434345\n",
      "0.29351121513865114\n",
      "0.29021971888525283\n",
      "0.2870326137055099\n",
      "0.28394764681046925\n",
      "0.2809625067067061\n",
      "0.2780748327376344\n",
      "0.2752822246513392\n",
      "0.27258225205848696\n",
      "0.26997246365905647\n",
      "0.2674503961328967\n",
      "0.26501358260660046\n",
      "0.2626595606260498\n",
      "0.26038587958100523\n",
      "[[-23.77518967]\n",
      " [  0.18691354]\n",
      " [  0.18047183]]\n"
     ]
    }
   ],
   "source": [
    "# 训练数据，通过调用梯度下降函数\n",
    "costs, theta_final = gradientDescent(X, y, theta, iters, alpha)\n",
    "print(theta_final)\n"
   ]
  },
  {
   "cell_type": "code",
   "execution_count": 13,
   "metadata": {},
   "outputs": [],
   "source": [
    "# 定义预测函数\n",
    "def predict(X, theta):\n",
    "    prob = sigmoid(X @ theta)\n",
    "    z = []\n",
    "    for x in prob:\n",
    "        # print(x)\n",
    "        if x >= 0.5:\n",
    "            z.append(1)\n",
    "        else:\n",
    "            z.append(0)\n",
    "    return z\n"
   ]
  },
  {
   "cell_type": "code",
   "execution_count": 14,
   "metadata": {},
   "outputs": [
    {
     "name": "stdout",
     "output_type": "stream",
     "text": [
      "0.86\n"
     ]
    }
   ],
   "source": [
    "# 计算准确率， 通过自行修改参数找到最大的准确率\n",
    "y_ = np.array(predict(X, theta_final))\n",
    "y_pre = y_.reshape(len(y_), 1)\n",
    "acc = np.mean(y_pre == y)\n",
    "print(acc)\n"
   ]
  },
  {
   "cell_type": "code",
   "execution_count": 15,
   "metadata": {},
   "outputs": [],
   "source": [
    "coef1 = - theta_final[0,0] / theta_final[2,0]\n",
    "coef2 = - theta_final[1,0] / theta_final[2,0]"
   ]
  },
  {
   "cell_type": "code",
   "execution_count": 16,
   "metadata": {},
   "outputs": [],
   "source": [
    "# 画出决策边界\n",
    "x = np.linspace(20, 100, 100)  # x代表的即为x1，f代表的原有的x2\n",
    "f = coef1 + coef2 * x\n"
   ]
  },
  {
   "cell_type": "code",
   "execution_count": 17,
   "metadata": {},
   "outputs": [
    {
     "data": {
      "image/png": "[encoded data removed]",
      "text/plain": [
       "<Figure size 640x480 with 1 Axes>"
      ]
     },
     "metadata": {},
     "output_type": "display_data"
    }
   ],
   "source": [
    "fig, ax = plt.subplots()\n",
    "ax.scatter(data[data['Accepted'] == 0]['Exam 1'],\n",
    "           data[data['Accepted'] == 0]['Exam 2'], c='r', marker='x', label='y=0')\n",
    "ax.scatter(data[data['Accepted'] == 1]['Exam 1'],\n",
    "           data[data['Accepted'] == 1]['Exam 2'], c='b', marker='o', label='y=1')\n",
    "ax.legend()\n",
    "ax.set(xlabel='exam1',\n",
    "       ylabel='exam2')\n",
    "\n",
    "ax.plot(x, f, c='g')\n",
    "plt.show()\n"
   ]
  }
 ],
 "metadata": {
  "kernelspec": {
   "display_name": "Python 3.10.4 ('pytorch')",
   "language": "python",
   "name": "python3"
  },
  "language_info": {
   "codemirror_mode": {
    "name": "ipython",
    "version": 3
   },
   "file_extension": ".py",
   "mimetype": "text/x-python",
   "name": "python",
   "nbconvert_exporter": "python",
   "pygments_lexer": "ipython3",
   "version": "3.10.4"
  },
  "orig_nbformat": 4,
  "vscode": {
   "interpreter": {
    "hash": "275a4a4caac3b599141279da828175b7d7e8e743fa5a3234eb41dae0868b9f4b"
   }
  }
 },
 "nbformat": 4,
 "nbformat_minor": 2
}
