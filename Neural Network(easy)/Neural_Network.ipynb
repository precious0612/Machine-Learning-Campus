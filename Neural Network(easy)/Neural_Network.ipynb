{
 "cells": [
  {
   "cell_type": "code",
   "execution_count": 18,
   "metadata": {},
   "outputs": [],
   "source": [
    "import numpy as np\n"
   ]
  },
  {
   "cell_type": "code",
   "execution_count": 19,
   "metadata": {},
   "outputs": [],
   "source": [
    "# 前向sigmoid\n",
    "def sigmod(z):\n",
    "    h = 1. / (1 + np.exp(-z))\n",
    "    return h\n"
   ]
  },
  {
   "cell_type": "code",
   "execution_count": 20,
   "metadata": {},
   "outputs": [],
   "source": [
    "# 反向sigmoid，求导的结果\n",
    "def de_sigmoid(z, h):\n",
    "    return h * (1 - h)\n"
   ]
  },
  {
   "cell_type": "code",
   "execution_count": 21,
   "metadata": {},
   "outputs": [],
   "source": [
    "# 前向relu\n",
    "def relu(z):\n",
    "    h = np.maximum(z, 0)\n",
    "    return h\n"
   ]
  },
  {
   "cell_type": "code",
   "execution_count": 22,
   "metadata": {},
   "outputs": [],
   "source": [
    "# 反向relu\n",
    "def de_relu(z, h):\n",
    "    z[z <= 0] = 0\n",
    "    z[z > 0] = 1.0\n",
    "    return z\n"
   ]
  },
  {
   "cell_type": "code",
   "execution_count": 23,
   "metadata": {},
   "outputs": [],
   "source": [
    "# 前向无操作\n",
    "def no_active(z):\n",
    "    h = z\n",
    "    return h\n"
   ]
  },
  {
   "cell_type": "code",
   "execution_count": 24,
   "metadata": {},
   "outputs": [],
   "source": [
    "# 反向无操作\n",
    "def de_no_active(z, h):\n",
    "    return np.ones(h.shape)\n"
   ]
  },
  {
   "cell_type": "code",
   "execution_count": 25,
   "metadata": {},
   "outputs": [],
   "source": [
    "# o Nxc\n",
    "# lab Nxc\n",
    "# 前向均方误差\n",
    "def loss_L2(o, lab):\n",
    "    diff = lab - o\n",
    "    sqrDiff = diff ** 2\n",
    "    return 0.5 * np.sum(sqrDiff)\n"
   ]
  },
  {
   "cell_type": "code",
   "execution_count": 26,
   "metadata": {},
   "outputs": [],
   "source": [
    "# 反向均方误差\n",
    "def de_loss_L2(o, lab):\n",
    "    return o - lab\n"
   ]
  },
  {
   "cell_type": "code",
   "execution_count": 27,
   "metadata": {},
   "outputs": [],
   "source": [
    "# 前向softmax交叉熵\n",
    "def loss_CE(o, lab):\n",
    "    p = np.exp(o) / np.sum(np.exp(o), axis=1, keepdims=True)\n",
    "    loss_ce = np.sum(-lab * np.log(p))\n",
    "    return loss_ce\n"
   ]
  },
  {
   "cell_type": "code",
   "execution_count": 28,
   "metadata": {},
   "outputs": [],
   "source": [
    "# 反向softmax交叉熵\n",
    "def de_loss_CE(o, lab):\n",
    "    p = np.exp(o) / np.sum(np.exp(o), axis=1, keepdims=True)\n",
    "    return p - lab\n"
   ]
  },
  {
   "cell_type": "markdown",
   "metadata": {},
   "source": [
    "dim_in:输入特征的维度  \n",
    "list_num_hidden： 每层输出节点的数目  \n",
    "list_act_funs： 每层的激活函数  \n",
    "list_de_act_funs: 反向传播时的函数  "
   ]
  },
  {
   "cell_type": "code",
   "execution_count": 29,
   "metadata": {},
   "outputs": [],
   "source": [
    "def bulid_net(dim_in, list_num_hidden, list_act_funs, list_de_act_funs):\n",
    "\n",
    "    layers = []\n",
    "\n",
    "    # 逐层的进行网络构建\n",
    "    for i in range(len(list_num_hidden)):\n",
    "        layer = {}\n",
    "\n",
    "        # 定义每一层的权重\n",
    "        if i == 0:\n",
    "            # 用sigmoid激活函数\n",
    "            layer[\"w\"] = 0.2*np.random.randn(dim_in, list_num_hidden[i])-0.1\n",
    "            # layer[\"w\"] = 0.01 * np.random.randn(dim_in, list_num_hidden[i])  # 用relu 激活函数\n",
    "        else:\n",
    "            # 用sigmoid激活函数\n",
    "            layer[\"w\"] = 0.2 * \\\n",
    "                np.random.randn(list_num_hidden[i-1], list_num_hidden[i])-0.1\n",
    "            # layer[\"w\"] = 0.01 * np.random.randn(list_num_hidden[i - 1], list_num_hidden[i])  # 用relu 激活函数\n",
    "\n",
    "        # 定义每一层的偏置\n",
    "        layer[\"b\"] = 0.1 * np.ones([1, list_num_hidden[i]])\n",
    "        layer[\"act_fun\"] = list_act_funs[i]\n",
    "        layer[\"de_act_fun\"] = list_de_act_funs[i]\n",
    "        layers.append(layer)\n",
    "\n",
    "    return layers\n"
   ]
  },
  {
   "cell_type": "code",
   "execution_count": 30,
   "metadata": {},
   "outputs": [],
   "source": [
    "def fead_forward(datas, layers):\n",
    "    input_layers = []\n",
    "    input_acfun = []\n",
    "    for i in range(len(layers)):\n",
    "        layer = layers[i]\n",
    "        if i == 0:\n",
    "            inputs = datas\n",
    "            z = np.dot(inputs, layer[\"w\"]) + layer[\"b\"]\n",
    "            h = layer['act_fun'](z)\n",
    "            input_layers.append(inputs)\n",
    "            input_acfun.append(z)\n",
    "        else:\n",
    "            inputs = h\n",
    "            z = np.dot(inputs, layer[\"w\"]) + layer[\"b\"]\n",
    "            h = layer['act_fun'](z)\n",
    "            input_layers.append(inputs)\n",
    "            input_acfun.append(z)\n",
    "    return input_layers, input_acfun, h\n"
   ]
  },
  {
   "cell_type": "code",
   "execution_count": 35,
   "metadata": {},
   "outputs": [],
   "source": [
    "# 进行参数更新更新\n",
    "def updata_wb(datas, labs, layers, loss_fun, de_loss_fun, alpha=0.01):\n",
    "    N, D = np.shape(datas)\n",
    "    # 进行前馈操作\n",
    "    inputs, input_acfun, output = fead_forward(datas, layers)\n",
    "    # 计算 loss\n",
    "    loss = loss_fun(output, labs)\n",
    "    # 从后向前计算\n",
    "    deltas0 = de_loss_fun(output, labs)\n",
    "    # 从后向前计算误差\n",
    "    deltas = []\n",
    "    for i in range(len(layers)):\n",
    "        index = -i - 1\n",
    "        if i == 0:\n",
    "            h = output\n",
    "            z = input_acfun[index]\n",
    "            delta = deltas0 * layers[index][\"de_act_fun\"](z, h)\n",
    "        else:\n",
    "            h = inputs[index + 1]\n",
    "            z = input_acfun[index]\n",
    "            # print(layers[index][\"de_act_fun\"](z,h)[1])\n",
    "            delta = np.dot(delta, layers[index + 1][\"w\"].T) * \\\n",
    "                layers[index][\"de_act_fun\"](z, h)\n",
    "\n",
    "        deltas.insert(0, delta)\n",
    "\n",
    "    # 利用误差 对每一层的权重进行修成\n",
    "    for i in range(len(layers)):\n",
    "        # 计算 dw 与 db\n",
    "        dw = np.dot(inputs[i].T, deltas[i])\n",
    "        db = np.sum(deltas[i], axis=0, keepdims=True)\n",
    "        # 梯度下降\n",
    "        layers[i][\"w\"] = layers[i][\"w\"] - alpha * dw\n",
    "        layers[i][\"b\"] = layers[i][\"b\"] - alpha * db\n",
    "\n",
    "    return layers, loss\n"
   ]
  },
  {
   "cell_type": "code",
   "execution_count": 32,
   "metadata": {},
   "outputs": [],
   "source": [
    "def test_accuracy(datas, labs_true, layers):\n",
    "    _, _, output = fead_forward(datas, layers)\n",
    "    lab_det = np.argmax(output, axis=1)\n",
    "    labs_true = np.argmax(labs_true, axis=1)\n",
    "    N_error = np.where(np.abs(labs_true - lab_det) > 0)[0].shape[0]\n",
    "\n",
    "    error_rate = N_error / np.shape(datas)[0]\n",
    "    return error_rate\n"
   ]
  },
  {
   "cell_type": "code",
   "execution_count": 33,
   "metadata": {},
   "outputs": [],
   "source": [
    "def load_dataset_iris(file_data, N_train):\n",
    "    # 数据读取\n",
    "    datas = np.loadtxt(file_data, dtype=np.float64,\n",
    "                       delimiter=',', usecols=(0, 1, 2, 3))\n",
    "    labs = np.loadtxt(file_data, dtype=str, delimiter=',', usecols=(4))\n",
    "    N, D = np.shape(datas)\n",
    "    N_test = N - N_train\n",
    "    unqiue_labs = np.unique(labs).tolist()\n",
    "\n",
    "    dic_str2index = {}\n",
    "    dic_index2str = {}\n",
    "    for i in range(len(unqiue_labs)):\n",
    "        lab_str = unqiue_labs[i]\n",
    "        dic_str2index[lab_str] = i\n",
    "        dic_index2str[i] = lab_str\n",
    "\n",
    "    labs_onehot = np.zeros([N, len(unqiue_labs)])\n",
    "    for i in range(N):\n",
    "        labs_onehot[i, dic_str2index[labs[i]]] = 1\n",
    "\n",
    "    perm = np.random.permutation(N)\n",
    "    index_train = perm[:N_train]\n",
    "    index_test = perm[N_train:]\n",
    "\n",
    "    data_train = datas[index_train, :]\n",
    "    lab_train_onehot = labs_onehot[index_train, :]\n",
    "\n",
    "    data_test = datas[index_test, :]\n",
    "    lab_test_onehot = labs_onehot[index_test]\n",
    "\n",
    "    return data_train, lab_train_onehot, data_test, lab_test_onehot, dic_index2str\n"
   ]
  },
  {
   "cell_type": "markdown",
   "metadata": {},
   "source": [
    "Visualization of data distribution"
   ]
  },
  {
   "cell_type": "code",
   "execution_count": 56,
   "metadata": {},
   "outputs": [],
   "source": [
    "\n",
    "file_data = '/Users/precious/Desktop/Machine Learning/Neural Network(easy)/data/train-images.idx3-ubyte'\n",
    "\n",
    "data_train, lab_train_onehot, data_test, lab_test_onehot, dic_index2str = load_dataset_iris(\n",
    "    file_data, 100)\n"
   ]
  },
  {
   "cell_type": "code",
   "execution_count": 114,
   "metadata": {},
   "outputs": [
    {
     "data": {
      "image/svg+xml": "<?xml version=\"1.0\" encoding=\"utf-8\" standalone=\"no\"?>\n<!DOCTYPE svg PUBLIC \"-//W3C//DTD SVG 1.1//EN\"\n  \"http://www.w3.org/Graphics/SVG/1.1/DTD/svg11.dtd\">\n<svg xmlns:xlink=\"http://www.w3.org/1999/xlink\" width=\"243.668125pt\" height=\"191.471016pt\" viewBox=\"0 0 243.668125 191.471016\" xmlns=\"http://www.w3.org/2000/svg\" version=\"1.1\">\n <metadata>\n  <rdf:RDF xmlns:dc=\"http://purl.org/dc/elements/1.1/\" xmlns:cc=\"http://creativecommons.org/ns#\" xmlns:rdf=\"http://www.w3.org/1999/02/22-rdf-syntax-ns#\">\n   <cc:Work>\n    <dc:type rdf:resource=\"http://purl.org/dc/dcmitype/StillImage\"/>\n    <dc:date>2022-09-22T01:41:05.972491</dc:date>\n    <dc:format>image/svg+xml</dc:format>\n    <dc:creator>\n     <cc:Agent>\n      <dc:title>Matplotlib v3.5.1, https://matplotlib.org/</dc:title>\n     </cc:Agent>\n    </dc:creator>\n   </cc:Work>\n  </rdf:RDF>\n </metadata>\n <defs>\n  <style type=\"text/css\">*{stroke-linejoin: round; stroke-linecap: butt}</style>\n </defs>\n <g id=\"figure_1\">\n  <g id=\"patch_1\">\n   <path d=\"M 0 191.471016 \nL 243.668125 191.471016 \nL 243.668125 0 \nL 0 0 \nz\n\" style=\"fill: #ffffff\"/>\n  </g>\n  <g id=\"axes_1\">\n   <g id=\"patch_2\">\n    <path d=\"M 35.051094 149.736797 \nL 230.351094 149.736797 \nL 230.351094 11.136797 \nL 35.051094 11.136797 \nz\n\" style=\"fill: #eaeaf2\"/>\n   </g>\n   <g id=\"matplotlib.axis_1\">\n    <g id=\"xtick_1\">\n     <g id=\"text_1\">\n      <!-- 10 -->\n      <g style=\"fill: #262626\" transform=\"translate(64.805491 167.110391)scale(0.11 -0.11)\">\n       <defs>\n        <path id=\"ArialMT-31\" d=\"M 2384 0 \nL 1822 0 \nL 1822 3584 \nQ 1619 3391 1289 3197 \nQ 959 3003 697 2906 \nL 697 3450 \nQ 1169 3672 1522 3987 \nQ 1875 4303 2022 4600 \nL 2384 4600 \nL 2384 0 \nz\n\" transform=\"scale(0.015625)\"/>\n        <path id=\"ArialMT-30\" d=\"M 266 2259 \nQ 266 3072 433 3567 \nQ 600 4063 929 4331 \nQ 1259 4600 1759 4600 \nQ 2128 4600 2406 4451 \nQ 2684 4303 2865 4023 \nQ 3047 3744 3150 3342 \nQ 3253 2941 3253 2259 \nQ 3253 1453 3087 958 \nQ 2922 463 2592 192 \nQ 2263 -78 1759 -78 \nQ 1097 -78 719 397 \nQ 266 969 266 2259 \nz\nM 844 2259 \nQ 844 1131 1108 757 \nQ 1372 384 1759 384 \nQ 2147 384 2411 759 \nQ 2675 1134 2675 2259 \nQ 2675 3391 2411 3762 \nQ 2147 4134 1753 4134 \nQ 1366 4134 1134 3806 \nQ 844 3388 844 2259 \nz\n\" transform=\"scale(0.015625)\"/>\n       </defs>\n       <use xlink:href=\"#ArialMT-31\"/>\n       <use xlink:href=\"#ArialMT-30\" x=\"55.615234\"/>\n      </g>\n     </g>\n    </g>\n    <g id=\"xtick_2\">\n     <g id=\"text_2\">\n      <!-- 20 -->\n      <g style=\"fill: #262626\" transform=\"translate(104.662634 167.110391)scale(0.11 -0.11)\">\n       <defs>\n        <path id=\"ArialMT-32\" d=\"M 3222 541 \nL 3222 0 \nL 194 0 \nQ 188 203 259 391 \nQ 375 700 629 1000 \nQ 884 1300 1366 1694 \nQ 2113 2306 2375 2664 \nQ 2638 3022 2638 3341 \nQ 2638 3675 2398 3904 \nQ 2159 4134 1775 4134 \nQ 1369 4134 1125 3890 \nQ 881 3647 878 3216 \nL 300 3275 \nQ 359 3922 746 4261 \nQ 1134 4600 1788 4600 \nQ 2447 4600 2831 4234 \nQ 3216 3869 3216 3328 \nQ 3216 3053 3103 2787 \nQ 2991 2522 2730 2228 \nQ 2469 1934 1863 1422 \nQ 1356 997 1212 845 \nQ 1069 694 975 541 \nL 3222 541 \nz\n\" transform=\"scale(0.015625)\"/>\n       </defs>\n       <use xlink:href=\"#ArialMT-32\"/>\n       <use xlink:href=\"#ArialMT-30\" x=\"55.615234\"/>\n      </g>\n     </g>\n    </g>\n    <g id=\"xtick_3\">\n     <g id=\"text_3\">\n      <!-- 30 -->\n      <g style=\"fill: #262626\" transform=\"translate(144.519777 167.110391)scale(0.11 -0.11)\">\n       <defs>\n        <path id=\"ArialMT-33\" d=\"M 269 1209 \nL 831 1284 \nQ 928 806 1161 595 \nQ 1394 384 1728 384 \nQ 2125 384 2398 659 \nQ 2672 934 2672 1341 \nQ 2672 1728 2419 1979 \nQ 2166 2231 1775 2231 \nQ 1616 2231 1378 2169 \nL 1441 2663 \nQ 1497 2656 1531 2656 \nQ 1891 2656 2178 2843 \nQ 2466 3031 2466 3422 \nQ 2466 3731 2256 3934 \nQ 2047 4138 1716 4138 \nQ 1388 4138 1169 3931 \nQ 950 3725 888 3313 \nL 325 3413 \nQ 428 3978 793 4289 \nQ 1159 4600 1703 4600 \nQ 2078 4600 2393 4439 \nQ 2709 4278 2876 4000 \nQ 3044 3722 3044 3409 \nQ 3044 3113 2884 2869 \nQ 2725 2625 2413 2481 \nQ 2819 2388 3044 2092 \nQ 3269 1797 3269 1353 \nQ 3269 753 2831 336 \nQ 2394 -81 1725 -81 \nQ 1122 -81 723 278 \nQ 325 638 269 1209 \nz\n\" transform=\"scale(0.015625)\"/>\n       </defs>\n       <use xlink:href=\"#ArialMT-33\"/>\n       <use xlink:href=\"#ArialMT-30\" x=\"55.615234\"/>\n      </g>\n     </g>\n    </g>\n    <g id=\"xtick_4\">\n     <g id=\"text_4\">\n      <!-- 40 -->\n      <g style=\"fill: #262626\" transform=\"translate(184.37692 167.110391)scale(0.11 -0.11)\">\n       <defs>\n        <path id=\"ArialMT-34\" d=\"M 2069 0 \nL 2069 1097 \nL 81 1097 \nL 81 1613 \nL 2172 4581 \nL 2631 4581 \nL 2631 1613 \nL 3250 1613 \nL 3250 1097 \nL 2631 1097 \nL 2631 0 \nL 2069 0 \nz\nM 2069 1613 \nL 2069 3678 \nL 634 1613 \nL 2069 1613 \nz\n\" transform=\"scale(0.015625)\"/>\n       </defs>\n       <use xlink:href=\"#ArialMT-34\"/>\n       <use xlink:href=\"#ArialMT-30\" x=\"55.615234\"/>\n      </g>\n     </g>\n    </g>\n    <g id=\"xtick_5\">\n     <g id=\"text_5\">\n      <!-- 50 -->\n      <g style=\"fill: #262626\" transform=\"translate(224.234062 167.110391)scale(0.11 -0.11)\">\n       <defs>\n        <path id=\"ArialMT-35\" d=\"M 266 1200 \nL 856 1250 \nQ 922 819 1161 601 \nQ 1400 384 1738 384 \nQ 2144 384 2425 690 \nQ 2706 997 2706 1503 \nQ 2706 1984 2436 2262 \nQ 2166 2541 1728 2541 \nQ 1456 2541 1237 2417 \nQ 1019 2294 894 2097 \nL 366 2166 \nL 809 4519 \nL 3088 4519 \nL 3088 3981 \nL 1259 3981 \nL 1013 2750 \nQ 1425 3038 1878 3038 \nQ 2478 3038 2890 2622 \nQ 3303 2206 3303 1553 \nQ 3303 931 2941 478 \nQ 2500 -78 1738 -78 \nQ 1113 -78 717 272 \nQ 322 622 266 1200 \nz\n\" transform=\"scale(0.015625)\"/>\n       </defs>\n       <use xlink:href=\"#ArialMT-35\"/>\n       <use xlink:href=\"#ArialMT-30\" x=\"55.615234\"/>\n      </g>\n     </g>\n    </g>\n    <g id=\"text_6\">\n     <!-- epoch -->\n     <g style=\"fill: #262626\" transform=\"translate(116.354844 181.886016)scale(0.12 -0.12)\">\n      <defs>\n       <path id=\"ArialMT-65\" d=\"M 2694 1069 \nL 3275 997 \nQ 3138 488 2766 206 \nQ 2394 -75 1816 -75 \nQ 1088 -75 661 373 \nQ 234 822 234 1631 \nQ 234 2469 665 2931 \nQ 1097 3394 1784 3394 \nQ 2450 3394 2872 2941 \nQ 3294 2488 3294 1666 \nQ 3294 1616 3291 1516 \nL 816 1516 \nQ 847 969 1125 678 \nQ 1403 388 1819 388 \nQ 2128 388 2347 550 \nQ 2566 713 2694 1069 \nz\nM 847 1978 \nL 2700 1978 \nQ 2663 2397 2488 2606 \nQ 2219 2931 1791 2931 \nQ 1403 2931 1139 2672 \nQ 875 2413 847 1978 \nz\n\" transform=\"scale(0.015625)\"/>\n       <path id=\"ArialMT-70\" d=\"M 422 -1272 \nL 422 3319 \nL 934 3319 \nL 934 2888 \nQ 1116 3141 1344 3267 \nQ 1572 3394 1897 3394 \nQ 2322 3394 2647 3175 \nQ 2972 2956 3137 2557 \nQ 3303 2159 3303 1684 \nQ 3303 1175 3120 767 \nQ 2938 359 2589 142 \nQ 2241 -75 1856 -75 \nQ 1575 -75 1351 44 \nQ 1128 163 984 344 \nL 984 -1272 \nL 422 -1272 \nz\nM 931 1641 \nQ 931 1000 1190 694 \nQ 1450 388 1819 388 \nQ 2194 388 2461 705 \nQ 2728 1022 2728 1688 \nQ 2728 2322 2467 2637 \nQ 2206 2953 1844 2953 \nQ 1484 2953 1207 2617 \nQ 931 2281 931 1641 \nz\n\" transform=\"scale(0.015625)\"/>\n       <path id=\"ArialMT-6f\" d=\"M 213 1659 \nQ 213 2581 725 3025 \nQ 1153 3394 1769 3394 \nQ 2453 3394 2887 2945 \nQ 3322 2497 3322 1706 \nQ 3322 1066 3130 698 \nQ 2938 331 2570 128 \nQ 2203 -75 1769 -75 \nQ 1072 -75 642 372 \nQ 213 819 213 1659 \nz\nM 791 1659 \nQ 791 1022 1069 705 \nQ 1347 388 1769 388 \nQ 2188 388 2466 706 \nQ 2744 1025 2744 1678 \nQ 2744 2294 2464 2611 \nQ 2184 2928 1769 2928 \nQ 1347 2928 1069 2612 \nQ 791 2297 791 1659 \nz\n\" transform=\"scale(0.015625)\"/>\n       <path id=\"ArialMT-63\" d=\"M 2588 1216 \nL 3141 1144 \nQ 3050 572 2676 248 \nQ 2303 -75 1759 -75 \nQ 1078 -75 664 370 \nQ 250 816 250 1647 \nQ 250 2184 428 2587 \nQ 606 2991 970 3192 \nQ 1334 3394 1763 3394 \nQ 2303 3394 2647 3120 \nQ 2991 2847 3088 2344 \nL 2541 2259 \nQ 2463 2594 2264 2762 \nQ 2066 2931 1784 2931 \nQ 1359 2931 1093 2626 \nQ 828 2322 828 1663 \nQ 828 994 1084 691 \nQ 1341 388 1753 388 \nQ 2084 388 2306 591 \nQ 2528 794 2588 1216 \nz\n\" transform=\"scale(0.015625)\"/>\n       <path id=\"ArialMT-68\" d=\"M 422 0 \nL 422 4581 \nL 984 4581 \nL 984 2938 \nQ 1378 3394 1978 3394 \nQ 2347 3394 2619 3248 \nQ 2891 3103 3008 2847 \nQ 3125 2591 3125 2103 \nL 3125 0 \nL 2563 0 \nL 2563 2103 \nQ 2563 2525 2380 2717 \nQ 2197 2909 1863 2909 \nQ 1613 2909 1392 2779 \nQ 1172 2650 1078 2428 \nQ 984 2206 984 1816 \nL 984 0 \nL 422 0 \nz\n\" transform=\"scale(0.015625)\"/>\n      </defs>\n      <use xlink:href=\"#ArialMT-65\"/>\n      <use xlink:href=\"#ArialMT-70\" x=\"55.615234\"/>\n      <use xlink:href=\"#ArialMT-6f\" x=\"111.230469\"/>\n      <use xlink:href=\"#ArialMT-63\" x=\"166.845703\"/>\n      <use xlink:href=\"#ArialMT-68\" x=\"216.845703\"/>\n     </g>\n    </g>\n   </g>\n   <g id=\"matplotlib.axis_2\">\n    <g id=\"ytick_1\">\n     <g id=\"text_7\">\n      <!-- 0 -->\n      <g style=\"fill: #262626\" transform=\"translate(19.434062 153.673594)scale(0.11 -0.11)\">\n       <use xlink:href=\"#ArialMT-30\"/>\n      </g>\n     </g>\n    </g>\n    <g id=\"ytick_2\">\n     <g id=\"text_8\">\n      <!-- 20 -->\n      <g style=\"fill: #262626\" transform=\"translate(13.317031 125.953594)scale(0.11 -0.11)\">\n       <use xlink:href=\"#ArialMT-32\"/>\n       <use xlink:href=\"#ArialMT-30\" x=\"55.615234\"/>\n      </g>\n     </g>\n    </g>\n    <g id=\"ytick_3\">\n     <g id=\"text_9\">\n      <!-- 40 -->\n      <g style=\"fill: #262626\" transform=\"translate(13.317031 98.233594)scale(0.11 -0.11)\">\n       <use xlink:href=\"#ArialMT-34\"/>\n       <use xlink:href=\"#ArialMT-30\" x=\"55.615234\"/>\n      </g>\n     </g>\n    </g>\n    <g id=\"ytick_4\">\n     <g id=\"text_10\">\n      <!-- 60 -->\n      <g style=\"fill: #262626\" transform=\"translate(13.317031 70.513594)scale(0.11 -0.11)\">\n       <defs>\n        <path id=\"ArialMT-36\" d=\"M 3184 3459 \nL 2625 3416 \nQ 2550 3747 2413 3897 \nQ 2184 4138 1850 4138 \nQ 1581 4138 1378 3988 \nQ 1113 3794 959 3422 \nQ 806 3050 800 2363 \nQ 1003 2672 1297 2822 \nQ 1591 2972 1913 2972 \nQ 2475 2972 2870 2558 \nQ 3266 2144 3266 1488 \nQ 3266 1056 3080 686 \nQ 2894 316 2569 119 \nQ 2244 -78 1831 -78 \nQ 1128 -78 684 439 \nQ 241 956 241 2144 \nQ 241 3472 731 4075 \nQ 1159 4600 1884 4600 \nQ 2425 4600 2770 4297 \nQ 3116 3994 3184 3459 \nz\nM 888 1484 \nQ 888 1194 1011 928 \nQ 1134 663 1356 523 \nQ 1578 384 1822 384 \nQ 2178 384 2434 671 \nQ 2691 959 2691 1453 \nQ 2691 1928 2437 2201 \nQ 2184 2475 1800 2475 \nQ 1419 2475 1153 2201 \nQ 888 1928 888 1484 \nz\n\" transform=\"scale(0.015625)\"/>\n       </defs>\n       <use xlink:href=\"#ArialMT-36\"/>\n       <use xlink:href=\"#ArialMT-30\" x=\"55.615234\"/>\n      </g>\n     </g>\n    </g>\n    <g id=\"ytick_5\">\n     <g id=\"text_11\">\n      <!-- 80 -->\n      <g style=\"fill: #262626\" transform=\"translate(13.317031 42.793594)scale(0.11 -0.11)\">\n       <defs>\n        <path id=\"ArialMT-38\" d=\"M 1131 2484 \nQ 781 2613 612 2850 \nQ 444 3088 444 3419 \nQ 444 3919 803 4259 \nQ 1163 4600 1759 4600 \nQ 2359 4600 2725 4251 \nQ 3091 3903 3091 3403 \nQ 3091 3084 2923 2848 \nQ 2756 2613 2416 2484 \nQ 2838 2347 3058 2040 \nQ 3278 1734 3278 1309 \nQ 3278 722 2862 322 \nQ 2447 -78 1769 -78 \nQ 1091 -78 675 323 \nQ 259 725 259 1325 \nQ 259 1772 486 2073 \nQ 713 2375 1131 2484 \nz\nM 1019 3438 \nQ 1019 3113 1228 2906 \nQ 1438 2700 1772 2700 \nQ 2097 2700 2305 2904 \nQ 2513 3109 2513 3406 \nQ 2513 3716 2298 3927 \nQ 2084 4138 1766 4138 \nQ 1444 4138 1231 3931 \nQ 1019 3725 1019 3438 \nz\nM 838 1322 \nQ 838 1081 952 856 \nQ 1066 631 1291 507 \nQ 1516 384 1775 384 \nQ 2178 384 2440 643 \nQ 2703 903 2703 1303 \nQ 2703 1709 2433 1975 \nQ 2163 2241 1756 2241 \nQ 1359 2241 1098 1978 \nQ 838 1716 838 1322 \nz\n\" transform=\"scale(0.015625)\"/>\n       </defs>\n       <use xlink:href=\"#ArialMT-38\"/>\n       <use xlink:href=\"#ArialMT-30\" x=\"55.615234\"/>\n      </g>\n     </g>\n    </g>\n    <g id=\"ytick_6\">\n     <g id=\"text_12\">\n      <!-- 100 -->\n      <g style=\"fill: #262626\" transform=\"translate(7.2 15.073594)scale(0.11 -0.11)\">\n       <use xlink:href=\"#ArialMT-31\"/>\n       <use xlink:href=\"#ArialMT-30\" x=\"55.615234\"/>\n       <use xlink:href=\"#ArialMT-30\" x=\"111.230469\"/>\n      </g>\n     </g>\n    </g>\n   </g>\n   <g id=\"line2d_1\">\n    <path d=\"M 35.051094 61.163245 \nL 39.036808 82.111198 \nL 43.022522 91.984487 \nL 47.008237 96.779871 \nL 50.993951 99.547104 \nL 54.979665 101.13429 \nL 58.965379 101.99987 \nL 62.951094 102.508535 \nL 66.936808 102.89832 \nL 70.922522 103.168039 \nL 74.908237 103.328039 \nL 78.893951 103.525224 \nL 82.879665 103.645491 \nL 86.865379 103.772011 \nL 90.851094 103.86198 \nL 94.836808 103.951122 \nL 98.822522 104.050798 \nL 102.808237 104.134088 \nL 106.793951 104.24253 \nL 110.779665 104.33469 \nL 114.765379 104.46253 \nL 118.751094 104.580381 \nL 122.736808 104.680717 \nL 126.722522 104.807766 \nL 130.708237 104.965969 \nL 134.693951 105.073767 \nL 138.679665 105.243184 \nL 142.665379 105.377267 \nL 146.651094 105.542971 \nL 150.636808 105.68288 \nL 154.622522 105.881912 \nL 158.608237 106.055428 \nL 162.593951 106.267212 \nL 166.579665 106.477348 \nL 170.565379 106.68787 \nL 174.551094 106.924529 \nL 178.536808 107.167576 \nL 182.522522 107.424749 \nL 186.508237 107.695942 \nL 190.493951 107.961973 \nL 194.479665 108.275012 \nL 198.465379 108.565418 \nL 202.451094 108.868353 \nL 206.436808 109.214005 \nL 210.422522 109.546368 \nL 214.408237 109.897368 \nL 218.393951 110.262982 \nL 222.379665 110.590437 \nL 226.365379 111.009088 \nL 230.351094 111.395636 \n\" clip-path=\"url(#p0008fc6910)\" style=\"fill: none; stroke: #4c72b0; stroke-width: 1.5; stroke-linecap: round\"/>\n   </g>\n   <g id=\"line2d_2\">\n    <path d=\"M 35.051094 99.840797 \nL 39.036808 99.840797 \nL 43.022522 99.840797 \nL 47.008237 99.840797 \nL 50.993951 99.840797 \nL 54.979665 99.840797 \nL 58.965379 99.840797 \nL 62.951094 99.840797 \nL 66.936808 99.840797 \nL 70.922522 99.840797 \nL 74.908237 102.612797 \nL 78.893951 102.612797 \nL 82.879665 102.612797 \nL 86.865379 103.998797 \nL 90.851094 105.384797 \nL 94.836808 106.770797 \nL 98.822522 99.840797 \nL 102.808237 99.840797 \nL 106.793951 99.840797 \nL 110.779665 99.840797 \nL 114.765379 99.840797 \nL 118.751094 99.840797 \nL 122.736808 99.840797 \nL 126.722522 99.840797 \nL 130.708237 99.840797 \nL 134.693951 99.840797 \nL 138.679665 99.840797 \nL 142.665379 99.840797 \nL 146.651094 99.840797 \nL 150.636808 98.454797 \nL 154.622522 90.138797 \nL 158.608237 83.208797 \nL 162.593951 76.278797 \nL 166.579665 70.734797 \nL 170.565379 36.084797 \nL 174.551094 38.856797 \nL 178.536808 33.312797 \nL 182.522522 33.312797 \nL 186.508237 34.698797 \nL 190.493951 31.926797 \nL 194.479665 33.312797 \nL 198.465379 38.856797 \nL 202.451094 37.470797 \nL 206.436808 47.172797 \nL 210.422522 41.628797 \nL 214.408237 45.786797 \nL 218.393951 48.558797 \nL 222.379665 47.172797 \nL 226.365379 47.172797 \nL 230.351094 48.558797 \n\" clip-path=\"url(#p0008fc6910)\" style=\"fill: none; stroke-dasharray: 5.55,2.4; stroke-dashoffset: 0; stroke: #8172b3; stroke-width: 1.5\"/>\n   </g>\n   <g id=\"line2d_3\">\n    <path d=\"M 35.051094 110.928797 \nL 39.036808 110.928797 \nL 43.022522 110.928797 \nL 47.008237 110.928797 \nL 50.993951 110.928797 \nL 54.979665 110.928797 \nL 58.965379 110.928797 \nL 62.951094 110.928797 \nL 66.936808 110.928797 \nL 70.922522 110.928797 \nL 74.908237 110.928797 \nL 78.893951 110.928797 \nL 82.879665 110.928797 \nL 86.865379 113.700797 \nL 90.851094 113.700797 \nL 94.836808 113.700797 \nL 98.822522 110.928797 \nL 102.808237 110.928797 \nL 106.793951 110.928797 \nL 110.779665 110.928797 \nL 114.765379 110.928797 \nL 118.751094 110.928797 \nL 122.736808 110.928797 \nL 126.722522 110.928797 \nL 130.708237 110.928797 \nL 134.693951 110.928797 \nL 138.679665 110.928797 \nL 142.665379 110.928797 \nL 146.651094 110.928797 \nL 150.636808 108.156797 \nL 154.622522 105.384797 \nL 158.608237 80.436797 \nL 162.593951 77.664797 \nL 166.579665 66.576797 \nL 170.565379 27.768797 \nL 174.551094 30.540797 \nL 178.536808 27.768797 \nL 182.522522 30.540797 \nL 186.508237 27.768797 \nL 190.493951 24.996797 \nL 194.479665 27.768797 \nL 198.465379 30.540797 \nL 202.451094 30.540797 \nL 206.436808 41.628797 \nL 210.422522 36.084797 \nL 214.408237 38.856797 \nL 218.393951 44.400797 \nL 222.379665 44.400797 \nL 226.365379 41.628797 \nL 230.351094 44.400797 \n\" clip-path=\"url(#p0008fc6910)\" style=\"fill: none; stroke-dasharray: 9.6,2.4,1.5,2.4; stroke-dashoffset: 0; stroke: #55a868; stroke-width: 1.5\"/>\n   </g>\n   <g id=\"patch_3\">\n    <path d=\"M 35.051094 149.736797 \nL 35.051094 11.136797 \n\" style=\"fill: none; stroke: #ffffff; stroke-width: 1.25; stroke-linejoin: miter; stroke-linecap: square\"/>\n   </g>\n   <g id=\"patch_4\">\n    <path d=\"M 230.351094 149.736797 \nL 230.351094 11.136797 \n\" style=\"fill: none; stroke: #ffffff; stroke-width: 1.25; stroke-linejoin: miter; stroke-linecap: square\"/>\n   </g>\n   <g id=\"patch_5\">\n    <path d=\"M 35.051094 149.736797 \nL 230.351094 149.736797 \n\" style=\"fill: none; stroke: #ffffff; stroke-width: 1.25; stroke-linejoin: miter; stroke-linecap: square\"/>\n   </g>\n   <g id=\"patch_6\">\n    <path d=\"M 35.051094 11.136797 \nL 230.351094 11.136797 \n\" style=\"fill: none; stroke: #ffffff; stroke-width: 1.25; stroke-linejoin: miter; stroke-linecap: square\"/>\n   </g>\n   <g id=\"legend_1\">\n    <g id=\"patch_7\">\n     <path d=\"M 42.751094 66.616328 \nL 121.964844 66.616328 \nQ 124.164844 66.616328 124.164844 64.416328 \nL 124.164844 18.836797 \nQ 124.164844 16.636797 121.964844 16.636797 \nL 42.751094 16.636797 \nQ 40.551094 16.636797 40.551094 18.836797 \nL 40.551094 64.416328 \nQ 40.551094 66.616328 42.751094 66.616328 \nz\n\" style=\"fill: #eaeaf2; opacity: 0.8; stroke: #cccccc; stroke-linejoin: miter\"/>\n    </g>\n    <g id=\"line2d_4\">\n     <path d=\"M 44.951094 25.060391 \nL 55.951094 25.060391 \nL 66.951094 25.060391 \n\" style=\"fill: none; stroke: #4c72b0; stroke-width: 1.5; stroke-linecap: round\"/>\n    </g>\n    <g id=\"text_13\">\n     <!-- train loss -->\n     <g style=\"fill: #262626\" transform=\"translate(75.751094 28.910391)scale(0.11 -0.11)\">\n      <defs>\n       <path id=\"ArialMT-74\" d=\"M 1650 503 \nL 1731 6 \nQ 1494 -44 1306 -44 \nQ 1000 -44 831 53 \nQ 663 150 594 308 \nQ 525 466 525 972 \nL 525 2881 \nL 113 2881 \nL 113 3319 \nL 525 3319 \nL 525 4141 \nL 1084 4478 \nL 1084 3319 \nL 1650 3319 \nL 1650 2881 \nL 1084 2881 \nL 1084 941 \nQ 1084 700 1114 631 \nQ 1144 563 1211 522 \nQ 1278 481 1403 481 \nQ 1497 481 1650 503 \nz\n\" transform=\"scale(0.015625)\"/>\n       <path id=\"ArialMT-72\" d=\"M 416 0 \nL 416 3319 \nL 922 3319 \nL 922 2816 \nQ 1116 3169 1280 3281 \nQ 1444 3394 1641 3394 \nQ 1925 3394 2219 3213 \nL 2025 2691 \nQ 1819 2813 1613 2813 \nQ 1428 2813 1281 2702 \nQ 1134 2591 1072 2394 \nQ 978 2094 978 1738 \nL 978 0 \nL 416 0 \nz\n\" transform=\"scale(0.015625)\"/>\n       <path id=\"ArialMT-61\" d=\"M 2588 409 \nQ 2275 144 1986 34 \nQ 1697 -75 1366 -75 \nQ 819 -75 525 192 \nQ 231 459 231 875 \nQ 231 1119 342 1320 \nQ 453 1522 633 1644 \nQ 813 1766 1038 1828 \nQ 1203 1872 1538 1913 \nQ 2219 1994 2541 2106 \nQ 2544 2222 2544 2253 \nQ 2544 2597 2384 2738 \nQ 2169 2928 1744 2928 \nQ 1347 2928 1158 2789 \nQ 969 2650 878 2297 \nL 328 2372 \nQ 403 2725 575 2942 \nQ 747 3159 1072 3276 \nQ 1397 3394 1825 3394 \nQ 2250 3394 2515 3294 \nQ 2781 3194 2906 3042 \nQ 3031 2891 3081 2659 \nQ 3109 2516 3109 2141 \nL 3109 1391 \nQ 3109 606 3145 398 \nQ 3181 191 3288 0 \nL 2700 0 \nQ 2613 175 2588 409 \nz\nM 2541 1666 \nQ 2234 1541 1622 1453 \nQ 1275 1403 1131 1340 \nQ 988 1278 909 1158 \nQ 831 1038 831 891 \nQ 831 666 1001 516 \nQ 1172 366 1500 366 \nQ 1825 366 2078 508 \nQ 2331 650 2450 897 \nQ 2541 1088 2541 1459 \nL 2541 1666 \nz\n\" transform=\"scale(0.015625)\"/>\n       <path id=\"ArialMT-69\" d=\"M 425 3934 \nL 425 4581 \nL 988 4581 \nL 988 3934 \nL 425 3934 \nz\nM 425 0 \nL 425 3319 \nL 988 3319 \nL 988 0 \nL 425 0 \nz\n\" transform=\"scale(0.015625)\"/>\n       <path id=\"ArialMT-6e\" d=\"M 422 0 \nL 422 3319 \nL 928 3319 \nL 928 2847 \nQ 1294 3394 1984 3394 \nQ 2284 3394 2536 3286 \nQ 2788 3178 2913 3003 \nQ 3038 2828 3088 2588 \nQ 3119 2431 3119 2041 \nL 3119 0 \nL 2556 0 \nL 2556 2019 \nQ 2556 2363 2490 2533 \nQ 2425 2703 2258 2804 \nQ 2091 2906 1866 2906 \nQ 1506 2906 1245 2678 \nQ 984 2450 984 1813 \nL 984 0 \nL 422 0 \nz\n\" transform=\"scale(0.015625)\"/>\n       <path id=\"ArialMT-20\" transform=\"scale(0.015625)\"/>\n       <path id=\"ArialMT-6c\" d=\"M 409 0 \nL 409 4581 \nL 972 4581 \nL 972 0 \nL 409 0 \nz\n\" transform=\"scale(0.015625)\"/>\n       <path id=\"ArialMT-73\" d=\"M 197 991 \nL 753 1078 \nQ 800 744 1014 566 \nQ 1228 388 1613 388 \nQ 2000 388 2187 545 \nQ 2375 703 2375 916 \nQ 2375 1106 2209 1216 \nQ 2094 1291 1634 1406 \nQ 1016 1563 777 1677 \nQ 538 1791 414 1992 \nQ 291 2194 291 2438 \nQ 291 2659 392 2848 \nQ 494 3038 669 3163 \nQ 800 3259 1026 3326 \nQ 1253 3394 1513 3394 \nQ 1903 3394 2198 3281 \nQ 2494 3169 2634 2976 \nQ 2775 2784 2828 2463 \nL 2278 2388 \nQ 2241 2644 2061 2787 \nQ 1881 2931 1553 2931 \nQ 1166 2931 1000 2803 \nQ 834 2675 834 2503 \nQ 834 2394 903 2306 \nQ 972 2216 1119 2156 \nQ 1203 2125 1616 2013 \nQ 2213 1853 2448 1751 \nQ 2684 1650 2818 1456 \nQ 2953 1263 2953 975 \nQ 2953 694 2789 445 \nQ 2625 197 2315 61 \nQ 2006 -75 1616 -75 \nQ 969 -75 630 194 \nQ 291 463 197 991 \nz\n\" transform=\"scale(0.015625)\"/>\n      </defs>\n      <use xlink:href=\"#ArialMT-74\"/>\n      <use xlink:href=\"#ArialMT-72\" x=\"27.783203\"/>\n      <use xlink:href=\"#ArialMT-61\" x=\"61.083984\"/>\n      <use xlink:href=\"#ArialMT-69\" x=\"116.699219\"/>\n      <use xlink:href=\"#ArialMT-6e\" x=\"138.916016\"/>\n      <use xlink:href=\"#ArialMT-20\" x=\"194.53125\"/>\n      <use xlink:href=\"#ArialMT-6c\" x=\"222.314453\"/>\n      <use xlink:href=\"#ArialMT-6f\" x=\"244.53125\"/>\n      <use xlink:href=\"#ArialMT-73\" x=\"300.146484\"/>\n      <use xlink:href=\"#ArialMT-73\" x=\"350.146484\"/>\n     </g>\n    </g>\n    <g id=\"line2d_5\">\n     <path d=\"M 44.951094 40.620234 \nL 55.951094 40.620234 \nL 66.951094 40.620234 \n\" style=\"fill: none; stroke-dasharray: 5.55,2.4; stroke-dashoffset: 0; stroke: #8172b3; stroke-width: 1.5\"/>\n    </g>\n    <g id=\"text_14\">\n     <!-- train acc -->\n     <g style=\"fill: #262626\" transform=\"translate(75.751094 44.470234)scale(0.11 -0.11)\">\n      <use xlink:href=\"#ArialMT-74\"/>\n      <use xlink:href=\"#ArialMT-72\" x=\"27.783203\"/>\n      <use xlink:href=\"#ArialMT-61\" x=\"61.083984\"/>\n      <use xlink:href=\"#ArialMT-69\" x=\"116.699219\"/>\n      <use xlink:href=\"#ArialMT-6e\" x=\"138.916016\"/>\n      <use xlink:href=\"#ArialMT-20\" x=\"194.53125\"/>\n      <use xlink:href=\"#ArialMT-61\" x=\"222.314453\"/>\n      <use xlink:href=\"#ArialMT-63\" x=\"277.929688\"/>\n      <use xlink:href=\"#ArialMT-63\" x=\"327.929688\"/>\n     </g>\n    </g>\n    <g id=\"line2d_6\">\n     <path d=\"M 44.951094 56.180078 \nL 55.951094 56.180078 \nL 66.951094 56.180078 \n\" style=\"fill: none; stroke-dasharray: 9.6,2.4,1.5,2.4; stroke-dashoffset: 0; stroke: #55a868; stroke-width: 1.5\"/>\n    </g>\n    <g id=\"text_15\">\n     <!-- test acc -->\n     <g style=\"fill: #262626\" transform=\"translate(75.751094 60.030078)scale(0.11 -0.11)\">\n      <use xlink:href=\"#ArialMT-74\"/>\n      <use xlink:href=\"#ArialMT-65\" x=\"27.783203\"/>\n      <use xlink:href=\"#ArialMT-73\" x=\"83.398438\"/>\n      <use xlink:href=\"#ArialMT-74\" x=\"133.398438\"/>\n      <use xlink:href=\"#ArialMT-20\" x=\"161.181641\"/>\n      <use xlink:href=\"#ArialMT-61\" x=\"188.964844\"/>\n      <use xlink:href=\"#ArialMT-63\" x=\"244.580078\"/>\n      <use xlink:href=\"#ArialMT-63\" x=\"294.580078\"/>\n     </g>\n    </g>\n   </g>\n  </g>\n </g>\n <defs>\n  <clipPath id=\"p0008fc6910\">\n   <rect x=\"35.051094\" y=\"11.136797\" width=\"195.3\" height=\"138.6\"/>\n  </clipPath>\n </defs>\n</svg>\n",
      "text/plain": [
       "<Figure size 350x250 with 1 Axes>"
      ]
     },
     "metadata": {},
     "output_type": "display_data"
    }
   ],
   "source": [
    "from d2l.torch import Animator\n",
    "from torch import softmax\n",
    "\n",
    "N, dim_in = np.shape(data_train)\n",
    "# 定义网络结构\n",
    "list_num_hidden = [10, 20, 3]\n",
    "list_act_funs = [relu, relu, no_active]\n",
    "list_de_act_funs = [de_relu, de_relu, de_no_active]\n",
    "# list_act_funs = [sigmod, sigmod, sigmod]\n",
    "# list_de_act_funs = [de_sigmoid, de_sigmoid, de_sigmoid]\n",
    "# 定义损失函数\n",
    "loss_fun = loss_L2\n",
    "de_loss_fun = de_loss_L2\n",
    "\n",
    "# loss_fun = loss_L2\n",
    "# de_loss_fun=de_loss_L2\n",
    "\n",
    "layers = bulid_net(dim_in, list_num_hidden,\n",
    "                   list_act_funs, list_de_act_funs)\n",
    "\n",
    "\n",
    "# 进行训练\n",
    "n_epoch = 50\n",
    "batchsize = 4\n",
    "N_batch = N // batchsize\n",
    "\n",
    "animator = Animator(xlabel='epoch', xlim=[1, n_epoch], ylim=[0,100],\n",
    "                        legend=['train loss', 'train acc', 'test acc'])\n",
    "for i in range(n_epoch):\n",
    "    # 数据打乱\n",
    "    rand_index = np.random.permutation(N).tolist()\n",
    "    # 每个batch 更新一下weight\n",
    "    loss_sum = 0\n",
    "    for j in range(N_batch):\n",
    "        index = rand_index[j * batchsize:(j + 1) * batchsize]\n",
    "        batch_datas = data_train[index]\n",
    "        batch_labs = lab_train_onehot[index]\n",
    "        layers, loss = updata_wb(\n",
    "            batch_datas, batch_labs, layers, loss_fun, de_loss_fun, alpha=0.001)\n",
    "        loss_sum = loss_sum + loss\n",
    "    \n",
    "    # error = test_accuracy(data_train, lab_train_onehot, layers)\n",
    "    # print(\"epoch %d  error  %.2f%%  loss_all %.2f\" %\n",
    "    #           (i, error * 100, loss_sum))\n",
    "    # print(metric[0], 1 - test_accuracy(data_train, lab_train_onehot, layers))\n",
    "\n",
    "    train_metrics = loss_sum, (1 - \\\n",
    "        test_accuracy(data_train, lab_train_onehot, layers)) * 100\n",
    "    test_acc = (1 - test_accuracy(data_test, lab_test_onehot, layers)) * 100\n",
    "\n",
    "    animator.add(i + 1, train_metrics + (test_acc,))\n",
    "\n",
    "train_loss, train_acc = train_metrics\n",
    "# assert train_loss < 0.5, train_loss\n",
    "# assert train_acc <= 1 and train_acc > 0.7, train_acc\n",
    "# assert test_acc <= 1 and test_acc > 0.7, test_acc"
   ]
  },
  {
   "cell_type": "code",
   "execution_count": 111,
   "metadata": {},
   "outputs": [
    {
     "name": "stdout",
     "output_type": "stream",
     "text": [
      "26.0\n"
     ]
    }
   ],
   "source": [
    "# 进行测试\n",
    "error = test_accuracy(data_test, lab_test_onehot, layers)\n",
    "print(error * 100)\n"
   ]
  }
 ],
 "metadata": {
  "kernelspec": {
   "display_name": "Python 3.10.4 ('pytorch')",
   "language": "python",
   "name": "python3"
  },
  "language_info": {
   "codemirror_mode": {
    "name": "ipython",
    "version": 3
   },
   "file_extension": ".py",
   "mimetype": "text/x-python",
   "name": "python",
   "nbconvert_exporter": "python",
   "pygments_lexer": "ipython3",
   "version": "3.10.4 (main, Mar 31 2022, 03:38:35) [Clang 12.0.0 ]"
  },
  "orig_nbformat": 4,
  "vscode": {
   "interpreter": {
    "hash": "275a4a4caac3b599141279da828175b7d7e8e743fa5a3234eb41dae0868b9f4b"
   }
  }
 },
 "nbformat": 4,
 "nbformat_minor": 2
}
